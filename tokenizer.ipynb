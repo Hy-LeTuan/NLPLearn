{
 "cells": [
  {
   "cell_type": "markdown",
   "metadata": {},
   "source": [
    "# Determine character codepoint\n",
    "\n",
    "In Python, strings are encoded with unicode, meaning each character is a unicode code point. To retrieve the unicode code point of a character in Python, use the `ord` function with the character as its parameter. \n",
    "\n",
    "Unicode defines 3 types of encodings: UTF-8, UTF-16 and UTF-32. These encodings allow the standard's abstracted codes for characters to be processed and stored as binary data (refer to [A Programmer's Introduction to Unicode](https://www.reedbeta.com/blog/programmers-intro-to-unicode/)). "
   ]
  },
  {
   "cell_type": "code",
   "execution_count": 2,
   "metadata": {},
   "outputs": [],
   "source": [
    "s = \"日本からこんにちは (Hello from Japan!)\""
   ]
  },
  {
   "cell_type": "code",
   "execution_count": 5,
   "metadata": {},
   "outputs": [
    {
     "name": "stdout",
     "output_type": "stream",
     "text": [
      "[230, 151, 165, 230, 156, 172, 227, 129, 139, 227, 130, 137, 227, 129, 147, 227, 130, 147, 227, 129, 171, 227, 129, 161, 227, 129, 175, 32, 40, 72, 101, 108, 108, 111, 32, 102, 114, 111, 109, 32, 74, 97, 112, 97, 110, 33, 41]\n"
     ]
    }
   ],
   "source": [
    "unicode_s = [ord(x) for x in s] \n",
    "utf_8_s = list(s.encode(\"utf-8\"))\n",
    "\n",
    "print(utf_8_s)"
   ]
  }
 ],
 "metadata": {
  "kernelspec": {
   "display_name": "dl",
   "language": "python",
   "name": "python3"
  },
  "language_info": {
   "codemirror_mode": {
    "name": "ipython",
    "version": 3
   },
   "file_extension": ".py",
   "mimetype": "text/x-python",
   "name": "python",
   "nbconvert_exporter": "python",
   "pygments_lexer": "ipython3",
   "version": "3.9.20"
  }
 },
 "nbformat": 4,
 "nbformat_minor": 2
}
