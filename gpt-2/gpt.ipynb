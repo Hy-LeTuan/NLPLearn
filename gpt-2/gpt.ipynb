{
 "cells": [
  {
   "cell_type": "code",
   "execution_count": 1,
   "metadata": {},
   "outputs": [],
   "source": [
    "import os \n",
    "import torch \n",
    "import torch.nn as nn \n",
    "import torch.nn.functional as F"
   ]
  },
  {
   "cell_type": "markdown",
   "metadata": {},
   "source": [
    "# Data"
   ]
  },
  {
   "cell_type": "code",
   "execution_count": 2,
   "metadata": {},
   "outputs": [],
   "source": [
    "with open(os.path.join(\".\", \"data\", \"input.txt\" ), \"r\", encoding=\"utf-8\") as f: \n",
    "    text = f.read()"
   ]
  },
  {
   "cell_type": "code",
   "execution_count": 3,
   "metadata": {},
   "outputs": [
    {
     "name": "stdout",
     "output_type": "stream",
     "text": [
      "First Citizen:\n",
      "Before we proceed any further, hear me speak.\n",
      "\n",
      "All:\n",
      "Speak, speak.\n",
      "\n",
      "First Citizen:\n",
      "You are all resolved rather to die than to famish?\n",
      "\n",
      "All:\n",
      "Resolved. resolved.\n",
      "\n",
      "First Citizen:\n",
      "First, you know Caius Marcius is chief enemy to the people.\n",
      "\n",
      "All:\n",
      "We know't, we know't.\n",
      "\n",
      "First Citizen:\n",
      "Let us kill him, and we'll have corn at our own price.\n",
      "Is't a verdict?\n",
      "\n",
      "All:\n",
      "No more talking on't; let it be done: away, away!\n",
      "\n",
      "Second Citizen:\n",
      "One word, good citizens.\n",
      "\n",
      "First Citizen:\n",
      "We are accounted poor citizens, the patricians good.\n",
      "What authority surfeits on would relieve us: if they\n",
      "would yield us but the superfluity, while it were\n",
      "wholesome, we might guess they relieved us humanely;\n",
      "but they think we are too dear: the leanness that\n",
      "afflicts us, the object of our misery, is as an\n",
      "inventory to particularise their abundance; our\n",
      "sufferance is a gain to them Let us revenge this with\n",
      "our pikes, ere we become rakes: for the gods know I\n",
      "speak this in hunger for bread, not in thirst for revenge.\n",
      "\n",
      "\n"
     ]
    }
   ],
   "source": [
    "print(text[:1000])"
   ]
  },
  {
   "cell_type": "code",
   "execution_count": 4,
   "metadata": {},
   "outputs": [
    {
     "name": "stdout",
     "output_type": "stream",
     "text": [
      "\n",
      " !$&',-.3:;?ABCDEFGHIJKLMNOPQRSTUVWXYZabcdefghijklmnopqrstuvwxyz\n",
      "65\n"
     ]
    }
   ],
   "source": [
    "# get all unqiue characters in the set \n",
    "\n",
    "unique_chars = sorted(list(set(text)))\n",
    "vocab_size = len(unique_chars)\n",
    "print(''.join(unique_chars))\n",
    "print(vocab_size)"
   ]
  },
  {
   "cell_type": "markdown",
   "metadata": {},
   "source": [
    "# Tokenization"
   ]
  },
  {
   "cell_type": "code",
   "execution_count": 5,
   "metadata": {},
   "outputs": [],
   "source": [
    "stoi = {ch:i for i, ch in enumerate(unique_chars)}\n",
    "itos = {i:ch for i, ch in enumerate(unique_chars)}\n",
    "\n",
    "encode = lambda s: [stoi[c] for c in s]\n",
    "decode = lambda l: ''.join([itos[i] for i in l])"
   ]
  },
  {
   "cell_type": "code",
   "execution_count": 6,
   "metadata": {},
   "outputs": [
    {
     "name": "stdout",
     "output_type": "stream",
     "text": [
      "torch.Size([1115394]) torch.int64\n",
      "tensor([18, 47, 56, 57, 58,  1, 15, 47, 58, 47, 64, 43, 52, 10,  0, 14, 43, 44,\n",
      "        53, 56, 43,  1, 61, 43,  1, 54, 56, 53, 41, 43, 43, 42,  1, 39, 52, 63,\n",
      "         1, 44, 59, 56, 58, 46, 43, 56,  6,  1, 46, 43, 39, 56,  1, 51, 43,  1,\n",
      "        57, 54, 43, 39, 49,  8,  0,  0, 13, 50, 50, 10,  0, 31, 54, 43, 39, 49,\n",
      "         6,  1, 57, 54, 43, 39, 49,  8,  0,  0, 18, 47, 56, 57, 58,  1, 15, 47,\n",
      "        58, 47, 64, 43, 52, 10,  0, 37, 53, 59])\n"
     ]
    }
   ],
   "source": [
    "data = torch.tensor(encode(text), dtype=torch.long)\n",
    "print(data.shape, data.dtype) \n",
    "print(data[:100])"
   ]
  },
  {
   "cell_type": "code",
   "execution_count": 7,
   "metadata": {},
   "outputs": [],
   "source": [
    "n = int(0.9*len(data))\n",
    "train_data = data[:n]\n",
    "val_data = data[n:]"
   ]
  },
  {
   "cell_type": "code",
   "execution_count": 8,
   "metadata": {},
   "outputs": [
    {
     "name": "stdout",
     "output_type": "stream",
     "text": [
      "when input is: tensor([18]), target is: 47\n",
      "when input is: tensor([18, 47]), target is: 56\n",
      "when input is: tensor([18, 47, 56]), target is: 57\n",
      "when input is: tensor([18, 47, 56, 57]), target is: 58\n",
      "when input is: tensor([18, 47, 56, 57, 58]), target is: 1\n",
      "when input is: tensor([18, 47, 56, 57, 58,  1]), target is: 15\n",
      "when input is: tensor([18, 47, 56, 57, 58,  1, 15]), target is: 47\n",
      "when input is: tensor([18, 47, 56, 57, 58,  1, 15, 47]), target is: 58\n"
     ]
    }
   ],
   "source": [
    "block_size = 8\n",
    "batch_size = 4\n",
    "x = train_data[:block_size]\n",
    "y = train_data[1:block_size + 1]\n",
    "\n",
    "for t in range(block_size): \n",
    "    content = x[:t + 1]\n",
    "    target = y[t]\n",
    "    print(f\"when input is: {content}, target is: {target}\")"
   ]
  },
  {
   "cell_type": "code",
   "execution_count": 9,
   "metadata": {},
   "outputs": [
    {
     "name": "stdout",
     "output_type": "stream",
     "text": [
      "inputs: torch.Size([4, 8]) || targets: torch.Size([4, 8])\n",
      "when input is: [1], target is: 60\n",
      "when input is: [1, 60], target is: 39\n",
      "when input is: [1, 60, 39], target is: 47\n",
      "when input is: [1, 60, 39, 47], target is: 50\n",
      "when input is: [1, 60, 39, 47, 50], target is: 1\n",
      "when input is: [1, 60, 39, 47, 50, 1], target is: 63\n",
      "when input is: [1, 60, 39, 47, 50, 1, 63], target is: 53\n",
      "when input is: [1, 60, 39, 47, 50, 1, 63, 53], target is: 59\n",
      "when input is: [46], target is: 43\n",
      "when input is: [46, 43], target is: 39\n",
      "when input is: [46, 43, 39], target is: 60\n",
      "when input is: [46, 43, 39, 60], target is: 43\n",
      "when input is: [46, 43, 39, 60, 43], target is: 52\n",
      "when input is: [46, 43, 39, 60, 43, 52], target is: 1\n",
      "when input is: [46, 43, 39, 60, 43, 52, 1], target is: 44\n",
      "when input is: [46, 43, 39, 60, 43, 52, 1, 44], target is: 53\n",
      "when input is: [1], target is: 46\n",
      "when input is: [1, 46], target is: 43\n",
      "when input is: [1, 46, 43], target is: 56\n",
      "when input is: [1, 46, 43, 56], target is: 43\n",
      "when input is: [1, 46, 43, 56, 43], target is: 1\n",
      "when input is: [1, 46, 43, 56, 43, 1], target is: 63\n",
      "when input is: [1, 46, 43, 56, 43, 1, 63], target is: 53\n",
      "when input is: [1, 46, 43, 56, 43, 1, 63, 53], target is: 59\n",
      "when input is: [61], target is: 47\n",
      "when input is: [61, 47], target is: 50\n",
      "when input is: [61, 47, 50], target is: 50\n",
      "when input is: [61, 47, 50, 50], target is: 1\n",
      "when input is: [61, 47, 50, 50, 1], target is: 57\n",
      "when input is: [61, 47, 50, 50, 1, 57], target is: 39\n",
      "when input is: [61, 47, 50, 50, 1, 57, 39], target is: 63\n",
      "when input is: [61, 47, 50, 50, 1, 57, 39, 63], target is: 0\n"
     ]
    }
   ],
   "source": [
    "torch.manual_seed(1337)\n",
    "def get_batch(split): \n",
    "    data = train_data if split == \"train\" else val_data\n",
    "\n",
    "    idx = torch.randint(len(data) - batch_size, (batch_size,))\n",
    "\n",
    "    x = torch.stack([data[i:i+block_size] for i in idx])\n",
    "    y = torch.stack([data[i+1:i+block_size+1] for i in idx])\n",
    "\n",
    "    return x, y\n",
    "\n",
    "xb, yb = get_batch(\"train\")\n",
    "print(f\"inputs: {xb.shape} || targets: {yb.shape}\")\n",
    "\n",
    "for b in range(batch_size): \n",
    "    for t in range(block_size): \n",
    "        context = xb[b, :t+1]\n",
    "        target = yb[b, t]\n",
    "        print(f\"when input is: {context.tolist()}, target is: {target}\")"
   ]
  },
  {
   "cell_type": "markdown",
   "metadata": {},
   "source": [
    "# Model"
   ]
  },
  {
   "cell_type": "code",
   "execution_count": 17,
   "metadata": {},
   "outputs": [],
   "source": [
    "class BigramLanguageModel(nn.Module): \n",
    "    def __init__(self, vocab_size): \n",
    "        super().__init__()\n",
    "\n",
    "        self.token_embeddings_table = nn.Embedding(vocab_size, vocab_size) \n",
    "\n",
    "    def forward(self, idx, targets=None): \n",
    "        logits = self.token_embeddings_table(idx) \n",
    "\n",
    "        if targets == None: \n",
    "            loss = None\n",
    "        else: \n",
    "            B, T, C = logits.shape\n",
    "            logits = logits.view(B*T, C)\n",
    "            targets = targets.view(-1)\n",
    "\n",
    "            loss = F.cross_entropy(logits, targets)\n",
    "\n",
    "        return logits, loss\n",
    "\n",
    "    def generate(self, idx, max_new_tokens): \n",
    "        for _ in range(max_new_tokens): \n",
    "            logits, loss = self(idx) \n",
    "            logits = logits[:, -1, :]\n",
    "\n",
    "            probs = F.softmax(logits, dim=-1)\n",
    "            idx_next = torch.multinomial(probs, num_samples=1)\n",
    "            idx = torch.cat((idx, idx_next), dim=1)\n",
    "\n",
    "        return idx"
   ]
  },
  {
   "cell_type": "code",
   "execution_count": 19,
   "metadata": {},
   "outputs": [
    {
     "name": "stdout",
     "output_type": "stream",
     "text": [
      "torch.Size([32, 65])\n",
      "tensor(4.6110, grad_fn=<NllLossBackward0>)\n",
      "\n",
      "phIOWd3AqNcgg,G!;j\n",
      "UtVYwJteWJc3xq.NBpFdLXaqK; eyjnB,Icl'Vn3M3M:JSe;bVbN N&DsRi?!DSaeyNZlSYjVkCzkSdoc\n"
     ]
    }
   ],
   "source": [
    "model = BigramLanguageModel(vocab_size=vocab_size)\n",
    "logits, loss = model(xb, yb) \n",
    "print(logits.shape)\n",
    "print(loss)\n",
    "\n",
    "idx = torch.zeros((1, 1), dtype=torch.long)\n",
    "print(decode(model.generate(idx, max_new_tokens=100)[0].tolist()))"
   ]
  },
  {
   "cell_type": "code",
   "execution_count": 20,
   "metadata": {},
   "outputs": [],
   "source": [
    "# optimizer \n",
    "optimizer = torch.optim.AdamW(model.parameters(), lr=1e-3)"
   ]
  },
  {
   "cell_type": "code",
   "execution_count": 23,
   "metadata": {},
   "outputs": [
    {
     "name": "stdout",
     "output_type": "stream",
     "text": [
      "2.4712576866149902\n"
     ]
    }
   ],
   "source": [
    "batch_size = 32 \n",
    "\n",
    "for steps in range(10000): \n",
    "    xb, yb = get_batch('train')\n",
    "\n",
    "    logits, loss = model(xb, yb) \n",
    "\n",
    "    optimizer.zero_grad(set_to_none=True)\n",
    "    loss.backward()\n",
    "    optimizer.step()\n",
    "\n",
    "print(loss.item())"
   ]
  },
  {
   "cell_type": "code",
   "execution_count": 25,
   "metadata": {},
   "outputs": [
    {
     "name": "stdout",
     "output_type": "stream",
     "text": [
      "\n",
      "3.\n",
      "Isch dg.\n",
      "INGA:\n",
      "Why chey upess:\n",
      "AMat has?\n",
      "ALONTho ie she tot y tord frerd? wh n machy, rave wheas myonann a y! ren:\n",
      "Thenot hee hestt wor RYourkndiceanche s wie'cco ff s haMys itathey dome?\n",
      "PHAnd IS:\n",
      "\n",
      "Wh t fo'soos ouinu atoreng the ICind:\n",
      "ABOUThaset 'd.\n",
      "HORThomot Thond y; pin she thow.\n",
      "\n",
      "VO: g;\n",
      "Whame ome f icou p\n",
      "FORinesty ir oun IOUThuess bes llle:\n",
      "WBr, is llly s ftoonomas til ad Ane w; ine,\n",
      "THes\n"
     ]
    }
   ],
   "source": [
    "print(decode(model.generate(idx=torch.zeros((1, 1), dtype=torch.long), max_new_tokens=400)[0].tolist()))"
   ]
  },
  {
   "cell_type": "markdown",
   "metadata": {},
   "source": [
    "# Self attention"
   ]
  },
  {
   "cell_type": "code",
   "execution_count": 38,
   "metadata": {},
   "outputs": [
    {
     "data": {
      "text/plain": [
       "torch.Size([2, 4, 16])"
      ]
     },
     "execution_count": 38,
     "metadata": {},
     "output_type": "execute_result"
    }
   ],
   "source": [
    "B = 2 \n",
    "T = 4 \n",
    "C = 32\n",
    "\n",
    "x = torch.randn(B, T, C)\n",
    "\n",
    "# a head of self attention \n",
    "head_size = 16\n",
    "key = nn.Linear(C, head_size)\n",
    "query = nn.Linear(C, head_size)\n",
    "value = nn.Linear(C, head_size)\n",
    "\n",
    "k = key(x) \n",
    "q = query(x) \n",
    "v = value(x) \n",
    "wei = q @ k.transpose(-2, -1)\n",
    "\n",
    "tril = torch.tril(torch.ones(T, T))\n",
    "wei = wei.masked_fill(tril == 0, float(\"-inf\"))\n",
    "wei = F.softmax(wei, dim=-1)\n",
    "\n",
    "v = value(x) # (B, T, 16)\n",
    "out = wei @ v  \n",
    "# out = wei @ x \n",
    "\n",
    "out.shape"
   ]
  },
  {
   "cell_type": "code",
   "execution_count": 39,
   "metadata": {},
   "outputs": [
    {
     "data": {
      "text/plain": [
       "tensor([[[1.0000, 0.0000, 0.0000, 0.0000],\n",
       "         [0.0496, 0.9504, 0.0000, 0.0000],\n",
       "         [0.1834, 0.7755, 0.0411, 0.0000],\n",
       "         [0.0279, 0.1351, 0.0723, 0.7647]],\n",
       "\n",
       "        [[1.0000, 0.0000, 0.0000, 0.0000],\n",
       "         [0.6811, 0.3189, 0.0000, 0.0000],\n",
       "         [0.7529, 0.2042, 0.0429, 0.0000],\n",
       "         [0.3278, 0.2006, 0.4157, 0.0559]]], grad_fn=<SoftmaxBackward0>)"
      ]
     },
     "execution_count": 39,
     "metadata": {},
     "output_type": "execute_result"
    }
   ],
   "source": [
    "wei"
   ]
  }
 ],
 "metadata": {
  "kernelspec": {
   "display_name": "dl",
   "language": "python",
   "name": "python3"
  },
  "language_info": {
   "codemirror_mode": {
    "name": "ipython",
    "version": 3
   },
   "file_extension": ".py",
   "mimetype": "text/x-python",
   "name": "python",
   "nbconvert_exporter": "python",
   "pygments_lexer": "ipython3",
   "version": "3.9.20"
  }
 },
 "nbformat": 4,
 "nbformat_minor": 2
}
